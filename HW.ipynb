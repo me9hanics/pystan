{
 "cells": [
  {
   "cell_type": "markdown",
   "metadata": {},
   "source": [
    "# Final assignment"
   ]
  },
  {
   "cell_type": "markdown",
   "metadata": {},
   "source": [
    "## Stan warm-up: linear model of BDA retention with Stan"
   ]
  },
  {
   "cell_type": "markdown",
   "metadata": {},
   "source": [
    "Mistakes:\n",
    "- No \";\" at the end of the line: `vector[N] mu = alpha + beta * x // linear model`\n",
    "- used upper instead of lower\n",
    "- we didn't sample from predictive distribution, but just with the mu parameter\n",
    "\n",
    "+1) While this might not be an issue in another language, but I also had to delete the \"#<1>\" and alike parts from the code."
   ]
  },
  {
   "cell_type": "code",
   "execution_count": 1,
   "metadata": {},
   "outputs": [],
   "source": [
    "import stan\n",
    "import nest_asyncio\n",
    "nest_asyncio.apply()\n",
    "import numpy as np\n",
    "import matplotlib.pyplot as plt\n",
    "import pandas as pd\n",
    "\n",
    "lin_normal_model = \"\"\"\n",
    "data {\n",
    "// number of data points\n",
    "int<lower=0> N;\n",
    "// covariate / predictor\n",
    "vector[N] x;\n",
    "// observations\n",
    "vector[N] y;\n",
    "// number of covariate values to make predictions at\n",
    "int<lower=0> no_predictions;\n",
    "// covariate values to make predictions at\n",
    "vector[no_predictions] x_predictions;\n",
    "} \n",
    "parameters { \n",
    "// intercept\n",
    "real alpha;\n",
    "// slope\n",
    "real beta;\n",
    "// the standard deviation should be constrained to be positive\n",
    "real<lower=0> sigma;\n",
    "} \n",
    "transformed parameters { \n",
    "// deterministic transformation of parameters and data\n",
    "vector[N] mu = alpha + beta * x; // linear model\n",
    "} \n",
    "model { \n",
    "// observation model / likelihood\n",
    "y ~ normal(mu, sigma);\n",
    "} \n",
    "generated quantities { \n",
    "// compute the means for the covariate values at which to make predictions\n",
    "vector[no_predictions] mu_pred = alpha + beta * x_predictions;\n",
    "// sample from the predictive distribution, a normal(mu_pred, sigma).\n",
    "array[no_predictions] real y_pred = normal_rng(mu_pred, sigma);\n",
    "}\n",
    "\"\"\""
   ]
  },
  {
   "cell_type": "markdown",
   "metadata": {},
   "source": [
    "Let's fix it, and try it on some random data.\n",
    "\n",
    "y should be somewhere between 0 and 1 by the description (proportion of correct answers). The variable x represent something related to the assignments, I just choose it to be an integer between 1 and 9.\n",
    "\n",
    "I choose `alpha=0.2, beta=0.05`, and `sigma=0.1`. It could happen with a small chance that the generated data is not in the range of 0 and 1, this is not important to just check if the model works."
   ]
  },
  {
   "cell_type": "code",
   "execution_count": 38,
   "metadata": {},
   "outputs": [
    {
     "name": "stdout",
     "output_type": "stream",
     "text": [
      "Building...\n"
     ]
    },
    {
     "name": "stderr",
     "output_type": "stream",
     "text": [
      "\n",
      "Building: found in cache, done.Messages from stanc:\n",
      "Warning: The parameter sigma has no priors. This means either no prior is\n",
      "    provided, or the prior(s) depend on data variables. In the later case,\n",
      "    this may be a false positive.\n",
      "Warning: The parameter beta has no priors. This means either no prior is\n",
      "    provided, or the prior(s) depend on data variables. In the later case,\n",
      "    this may be a false positive.\n",
      "Warning: The parameter alpha has no priors. This means either no prior is\n",
      "    provided, or the prior(s) depend on data variables. In the later case,\n",
      "    this may be a false positive.\n"
     ]
    }
   ],
   "source": [
    "np.random.seed(20001104)\n",
    "N = 100\n",
    "x = np.random.randint(1, 10, N)\n",
    "alpha_real = 0.2\n",
    "beta_real = 0.05\n",
    "sigma_real = 0.1\n",
    "y = alpha_real + beta_real * x + np.random.normal(0, sigma_real, N)\n",
    "no_predictions = 1000 #same as N, just for plotting\n",
    "x_predictions = np.linspace(1, 10, no_predictions) #something simple\n",
    "\n",
    "data = {'N': N, 'x': x, 'y': y, 'no_predictions': no_predictions, 'x_predictions': x_predictions}\n",
    "posterior = stan.build(lin_normal_model, data=data, random_seed=20001104)"
   ]
  },
  {
   "cell_type": "markdown",
   "metadata": {},
   "source": [
    "The warning only appears because we didn't have to define a prior for the uniform distribution, Stan uses by default uniform priors. <br>\n",
    "Since our prior is uniform, our posterior is proportional to the likelihood.\n",
    "\n",
    "We sample from the posterior - this is the process: each step an alpha, beta and sigma is drawn from the posterior distribution (an approximate of it), we calculate the mu value, and y is generated from a normal distribution with mu and sigma. After sampling, we generate mu_pred, and for  draw 1000 samples of y_pred from a normal distribution with mu_pred and sigma."
   ]
  },
  {
   "cell_type": "markdown",
   "metadata": {},
   "source": [
    "The MCMC standard error is $\\sigma / \\sqrt{s} = 0.1 / \\sqrt{1000} \\approx 0.0032$. The precision should be around 2-3 decimal places, I choose to round it to 3 and give the $[x-3\\sigma, x+3\\sigma]$ 95% interval. For other attributes, the standard deviation is even smaller."
   ]
  },
  {
   "cell_type": "code",
   "execution_count": 54,
   "metadata": {},
   "outputs": [
    {
     "name": "stderr",
     "output_type": "stream",
     "text": [
      "Sampling:   0%\n",
      "Sampling: 100%, done.\n",
      "Messages received during sampling:\n",
      "  Gradient evaluation took 0.000386 seconds\n",
      "  1000 transitions using 10 leapfrog steps per transition would take 3.86 seconds.\n",
      "  Adjust your expectations accordingly!\n",
      "  Informational Message: The current Metropolis proposal is about to be rejected because of the following issue:\n",
      "  Exception: normal_lpdf: Scale parameter is 0, but must be positive! (in '/tmp/httpstan_u9xoxgjs/model_p43jlqkk.stan', line 28, column 0 to column 22)\n",
      "  If this warning occurs sporadically, such as for highly constrained variable types like covariance matrices, then the sampler is fine,\n",
      "  but if this warning occurs often then your model may be either severely ill-conditioned or misspecified.\n"
     ]
    },
    {
     "name": "stdout",
     "output_type": "stream",
     "text": [
      "\n",
      " <stan.Fit>\n",
      "Parameters:\n",
      "    alpha: ()\n",
      "    beta: ()\n",
      "    sigma: ()\n",
      "    mu: (100,)\n",
      "    mu_pred: (1000,)\n",
      "    y_pred: (1000,)\n",
      "Draws: 1000\n",
      "Mean of alpha:  0.191  -  0.195 \n",
      "Mean of beta:  0.052  -  0.053 \n",
      "Mean of sigma:  0.107  -  0.108\n"
     ]
    }
   ],
   "source": [
    "def attribute_mcmc_std_err(x_samples):\n",
    "      return np.std(x_samples)/np.sqrt((x_samples).shape[1])\n",
    "\n",
    "np.random.seed(20001104)\n",
    "fit = posterior.sample(num_chains=1, num_samples=no_predictions)\n",
    "\n",
    "alpha_samples = fit['alpha']\n",
    "beta_samples = fit['beta']\n",
    "sigma_samples = fit['sigma']\n",
    "y_pred_samples = fit['y_pred']\n",
    "\n",
    "alpha_mcmc_std_err = attribute_mcmc_std_err(alpha_samples)\n",
    "beta_mcmc_std_err = attribute_mcmc_std_err(beta_samples)\n",
    "sigma_mcmc_std_err = attribute_mcmc_std_err(sigma_samples)\n",
    "print(\"\\n\", fit)\n",
    "print(\"Mean of alpha: \", \n",
    "      np.round(alpha_samples.mean() -3*alpha_mcmc_std_err, 3),\" - \", \n",
    "      np.round(alpha_samples.mean() +3*alpha_mcmc_std_err, 3),\n",
    "      \"\\nMean of beta: \", \n",
    "      np.round(beta_samples.mean() - 3*beta_mcmc_std_err, 3), \" - \",\n",
    "      np.round(beta_samples.mean() + 3*beta_mcmc_std_err, 3),\n",
    "      \"\\nMean of sigma: \",\n",
    "      np.round(sigma_samples.mean() - 3*sigma_mcmc_std_err, 3), \" - \",\n",
    "      np.round(sigma_samples.mean() + 3*sigma_mcmc_std_err, 3)\n",
    "      )"
   ]
  },
  {
   "cell_type": "markdown",
   "metadata": {},
   "source": [
    "The values of $\\alpha$, $\\beta$ and $\\sigma$ are close to the true values (surprisingly low values for $\\alpha$), meaning that the code works well."
   ]
  },
  {
   "cell_type": "code",
   "execution_count": 55,
   "metadata": {},
   "outputs": [
    {
     "data": {
      "image/png": "[encoded data removed]",
      "text/plain": [
       "<Figure size 1000x600 with 1 Axes>"
      ]
     },
     "metadata": {},
     "output_type": "display_data"
    }
   ],
   "source": [
    "# Plot the fit\n",
    "plt.figure(figsize=(10, 6))\n",
    "plt.plot(x, y, 'o', label='Observed data')\n",
    "plt.plot(x_predictions, np.mean(y_pred_samples, axis=1), 'k--', label='Mean prediction')\n",
    "plt.xlabel('x')\n",
    "plt.ylabel('y')\n",
    "plt.title('Model Fit')\n",
    "plt.legend()\n",
    "plt.show()"
   ]
  },
  {
   "cell_type": "markdown",
   "metadata": {},
   "source": [
    "The sampling was correct - the \" blue lines\" represent the different integer x values and their sampled y values, we see the correct increasing trend for both the real and the average predicted values."
   ]
  },
  {
   "cell_type": "markdown",
   "metadata": {},
   "source": [
    "## Generalized linear model: Bioassay with Stan"
   ]
  },
  {
   "cell_type": "markdown",
   "metadata": {},
   "source": [
    "### Data:\n",
    "\n",
    "From the slides, the table:\n",
    "\n",
    "| Dose (log g/ml) | No. of Animals | No. of Deaths |\n",
    "|------|----------------|---------------|\n",
    "| -0.86  | 5              | 0             |\n",
    "| -0.30  | 5              | 1             |\n",
    "| -0.05  | 5              | 3             |\n",
    "|  0.73  | 5              | 5             |"
   ]
  },
  {
   "cell_type": "markdown",
   "metadata": {},
   "source": [
    "### 3.a) Model"
   ]
  },
  {
   "cell_type": "markdown",
   "metadata": {},
   "source": [
    "We need to model the data with a binomial likelihood (with a logit link function), the priors should be multinormally distributed.<br>\n",
    "We can take inspiration from the slides:\n",
    "\n",
    "\n",
    "Binomial model of likelihood:\n",
    "$$y_i | θ_i ∼ Bin(θ_i, n_i)$$\n",
    "\n",
    "Link function (logistic regression, so it goes from 0 to 1):\n",
    "$$logit(θ_i) = α + βx_i$$\n",
    "\n",
    "(Likelihood in complete form: $p(y_i | α, β, n_i, x_i) ∝ [logit^{−1}(α + βx_i)]^{y_i} [1 − logit^{−1}(α + βx_i)]^{ni−yi} $"
   ]
  },
  {
   "cell_type": "markdown",
   "metadata": {},
   "source": [
    "We can write similar code as in the first task for the model, but now we have to define the priors in the model.<br>\n",
    "I tried to implement prediction on new data, but there was no `binomial_logit_rng` function and the attempted code ran out of memory."
   ]
  },
  {
   "cell_type": "code",
   "execution_count": 2,
   "metadata": {},
   "outputs": [
    {
     "name": "stdout",
     "output_type": "stream",
     "text": [
      "Building...\n"
     ]
    },
    {
     "name": "stderr",
     "output_type": "stream",
     "text": [
      "\n",
      "Building: 77.2s, done.Messages from stanc:\n",
      "Warning: The parameter t has no priors. This means either no prior is\n",
      "    provided, or the prior(s) depend on data variables. In the later case,\n",
      "    this may be a false positive.\n"
     ]
    }
   ],
   "source": [
    "binomial_logit_model = \"\"\"\n",
    "data{\n",
    "int<lower=0> N;\n",
    "vector[N] x; //input\n",
    "array[N] int <lower=0> n;\n",
    "array[N] int <lower=0> y;\n",
    "vector[2] mean0;\n",
    "matrix<lower=0>[2, 2] covar0;\n",
    "//int<lower=0> no_predictions;\n",
    "//vector[no_predictions] x_predictions;\n",
    "}\n",
    "parameters{\n",
    "vector[2] t;\n",
    "}\n",
    "transformed parameters {\n",
    "real alpha = t[1];\n",
    "real beta = t[2];\n",
    "vector[N] theta = alpha + beta * x;\n",
    "}\n",
    "model {\n",
    "t ~ multi_normal(mean0, covar0);\n",
    "y ~ binomial_logit(n, theta); //Likelihood binomial-logit\n",
    "}\n",
    "generated quantities {\n",
    "  //vector[N] theta_pred = alpha + beta * x_predictions;\n",
    "  //array[no_predictions] real y_pred = binomial_rng(n, inv_logit(theta_pred));\n",
    "}\n",
    "\"\"\"\n",
    "\n",
    "np.random.seed(20001104)\n",
    "x = np.array([-0.86, -0.30, -0.05, 0.73])\n",
    "n = np.array([5, 5, 5, 5])\n",
    "y = np.array([0, 1, 3, 5])\n",
    "mean0 = np.array([0, 10])\n",
    "covar0 = np.array([[4, 12], [12, 100]])\n",
    "#no_predictions = 3\n",
    "#x_predictions = np.array([-1, 0, 1])\n",
    "\n",
    "data = {'N': len(x), 'x': x, 'n': n, 'y': y, 'mean0': mean0, 'covar0': covar0,\n",
    "        #'no_predictions': no_predictions, 'x_predictions': x_predictions\n",
    "        }\n",
    "\n",
    "# Build and sample the model\n",
    "posterior = stan.build(binomial_logit_model, data=data, random_seed=20001104)"
   ]
  },
  {
   "cell_type": "markdown",
   "metadata": {},
   "source": [
    "We can try 10 separate chains (we have 4 datapoints, we shouldn't expect to recover the real distribution from these 4 points, so we only aim at maximum 4 modes, and hopefully 10 chains will have at least one in each of them)"
   ]
  },
  {
   "cell_type": "markdown",
   "metadata": {},
   "source": [
    "### Convergence analysis\n",
    "\n",
    "We want to sample til ($\\hat{R}$) is very close to 1."
   ]
  },
  {
   "cell_type": "code",
   "execution_count": 3,
   "metadata": {},
   "outputs": [
    {
     "name": "stderr",
     "output_type": "stream",
     "text": [
      "Sampling:   0%\n",
      "Sampling:  10% (2000/20000)\n",
      "Sampling:  20% (4000/20000)\n",
      "Sampling:  30% (6000/20000)\n",
      "Sampling:  40% (8000/20000)\n",
      "Sampling:  50% (10000/20000)\n",
      "Sampling:  60% (12000/20000)\n",
      "Sampling:  70% (14000/20000)\n",
      "Sampling:  80% (16000/20000)\n",
      "Sampling:  90% (18000/20000)\n",
      "Sampling: 100% (20000/20000)\n",
      "Sampling: 100% (20000/20000), done.\n",
      "Messages received during sampling:\n",
      "  Gradient evaluation took 6e-05 seconds\n",
      "  1000 transitions using 10 leapfrog steps per transition would take 0.6 seconds.\n",
      "  Adjust your expectations accordingly!\n",
      "  Gradient evaluation took 3.2e-05 seconds\n",
      "  1000 transitions using 10 leapfrog steps per transition would take 0.32 seconds.\n",
      "  Adjust your expectations accordingly!\n",
      "  Gradient evaluation took 2.2e-05 seconds\n",
      "  1000 transitions using 10 leapfrog steps per transition would take 0.22 seconds.\n",
      "  Adjust your expectations accordingly!\n",
      "  Gradient evaluation took 1.7e-05 seconds\n",
      "  1000 transitions using 10 leapfrog steps per transition would take 0.17 seconds.\n",
      "  Adjust your expectations accordingly!\n",
      "  Gradient evaluation took 6e-06 seconds\n",
      "  1000 transitions using 10 leapfrog steps per transition would take 0.06 seconds.\n",
      "  Adjust your expectations accordingly!\n",
      "  Gradient evaluation took 1e-05 seconds\n",
      "  1000 transitions using 10 leapfrog steps per transition would take 0.1 seconds.\n",
      "  Adjust your expectations accordingly!\n",
      "  Gradient evaluation took 1.8e-05 seconds\n",
      "  1000 transitions using 10 leapfrog steps per transition would take 0.18 seconds.\n",
      "  Adjust your expectations accordingly!\n",
      "  Gradient evaluation took 6e-06 seconds\n",
      "  1000 transitions using 10 leapfrog steps per transition would take 0.06 seconds.\n",
      "  Adjust your expectations accordingly!\n",
      "  Gradient evaluation took 9e-06 seconds\n",
      "  1000 transitions using 10 leapfrog steps per transition would take 0.09 seconds.\n",
      "  Adjust your expectations accordingly!\n",
      "  Gradient evaluation took 6e-06 seconds\n",
      "  1000 transitions using 10 leapfrog steps per transition would take 0.06 seconds.\n",
      "  Adjust your expectations accordingly!\n"
     ]
    }
   ],
   "source": [
    "fit = posterior.sample(num_chains=10, num_samples=1000)\n",
    "#Gather the samples into a dataframe, and then use df.describe() to get the summary statistics"
   ]
  },
  {
   "cell_type": "code",
   "execution_count": 4,
   "metadata": {},
   "outputs": [
    {
     "data": {
      "text/html": [
       "<div>\n",
       "<style scoped>\n",
       "    .dataframe tbody tr th:only-of-type {\n",
       "        vertical-align: middle;\n",
       "    }\n",
       "\n",
       "    .dataframe tbody tr th {\n",
       "        vertical-align: top;\n",
       "    }\n",
       "\n",
       "    .dataframe thead th {\n",
       "        text-align: right;\n",
       "    }\n",
       "</style>\n",
       "<table border=\"1\" class=\"dataframe\">\n",
       "  <thead>\n",
       "    <tr style=\"text-align: right;\">\n",
       "      <th></th>\n",
       "      <th>mean</th>\n",
       "      <th>sd</th>\n",
       "      <th>hdi_3%</th>\n",
       "      <th>hdi_97%</th>\n",
       "      <th>mcse_mean</th>\n",
       "      <th>mcse_sd</th>\n",
       "      <th>ess_bulk</th>\n",
       "      <th>ess_tail</th>\n",
       "      <th>r_hat</th>\n",
       "    </tr>\n",
       "  </thead>\n",
       "  <tbody>\n",
       "    <tr>\n",
       "      <th>t[0]</th>\n",
       "      <td>0.960</td>\n",
       "      <td>0.927</td>\n",
       "      <td>-0.668</td>\n",
       "      <td>2.795</td>\n",
       "      <td>0.017</td>\n",
       "      <td>0.012</td>\n",
       "      <td>3024.0</td>\n",
       "      <td>4164.0</td>\n",
       "      <td>1.0</td>\n",
       "    </tr>\n",
       "    <tr>\n",
       "      <th>t[1]</th>\n",
       "      <td>10.546</td>\n",
       "      <td>4.678</td>\n",
       "      <td>2.702</td>\n",
       "      <td>19.188</td>\n",
       "      <td>0.086</td>\n",
       "      <td>0.062</td>\n",
       "      <td>3102.0</td>\n",
       "      <td>4031.0</td>\n",
       "      <td>1.0</td>\n",
       "    </tr>\n",
       "    <tr>\n",
       "      <th>alpha</th>\n",
       "      <td>0.960</td>\n",
       "      <td>0.927</td>\n",
       "      <td>-0.668</td>\n",
       "      <td>2.795</td>\n",
       "      <td>0.017</td>\n",
       "      <td>0.012</td>\n",
       "      <td>3024.0</td>\n",
       "      <td>4164.0</td>\n",
       "      <td>1.0</td>\n",
       "    </tr>\n",
       "    <tr>\n",
       "      <th>beta</th>\n",
       "      <td>10.546</td>\n",
       "      <td>4.678</td>\n",
       "      <td>2.702</td>\n",
       "      <td>19.188</td>\n",
       "      <td>0.086</td>\n",
       "      <td>0.062</td>\n",
       "      <td>3102.0</td>\n",
       "      <td>4031.0</td>\n",
       "      <td>1.0</td>\n",
       "    </tr>\n",
       "    <tr>\n",
       "      <th>theta[0]</th>\n",
       "      <td>-8.109</td>\n",
       "      <td>3.520</td>\n",
       "      <td>-14.855</td>\n",
       "      <td>-2.347</td>\n",
       "      <td>0.060</td>\n",
       "      <td>0.043</td>\n",
       "      <td>3660.0</td>\n",
       "      <td>4635.0</td>\n",
       "      <td>1.0</td>\n",
       "    </tr>\n",
       "    <tr>\n",
       "      <th>theta[1]</th>\n",
       "      <td>-2.203</td>\n",
       "      <td>1.098</td>\n",
       "      <td>-4.283</td>\n",
       "      <td>-0.231</td>\n",
       "      <td>0.015</td>\n",
       "      <td>0.011</td>\n",
       "      <td>6210.0</td>\n",
       "      <td>5525.0</td>\n",
       "      <td>1.0</td>\n",
       "    </tr>\n",
       "    <tr>\n",
       "      <th>theta[2]</th>\n",
       "      <td>0.433</td>\n",
       "      <td>0.802</td>\n",
       "      <td>-1.057</td>\n",
       "      <td>1.968</td>\n",
       "      <td>0.013</td>\n",
       "      <td>0.010</td>\n",
       "      <td>3573.0</td>\n",
       "      <td>4428.0</td>\n",
       "      <td>1.0</td>\n",
       "    </tr>\n",
       "    <tr>\n",
       "      <th>theta[3]</th>\n",
       "      <td>8.659</td>\n",
       "      <td>4.058</td>\n",
       "      <td>1.816</td>\n",
       "      <td>16.226</td>\n",
       "      <td>0.078</td>\n",
       "      <td>0.055</td>\n",
       "      <td>2808.0</td>\n",
       "      <td>3964.0</td>\n",
       "      <td>1.0</td>\n",
       "    </tr>\n",
       "  </tbody>\n",
       "</table>\n",
       "</div>"
      ],
      "text/plain": [
       "            mean     sd  hdi_3%  hdi_97%  mcse_mean  mcse_sd  ess_bulk  \\\n",
       "t[0]       0.960  0.927  -0.668    2.795      0.017    0.012    3024.0   \n",
       "t[1]      10.546  4.678   2.702   19.188      0.086    0.062    3102.0   \n",
       "alpha      0.960  0.927  -0.668    2.795      0.017    0.012    3024.0   \n",
       "beta      10.546  4.678   2.702   19.188      0.086    0.062    3102.0   \n",
       "theta[0]  -8.109  3.520 -14.855   -2.347      0.060    0.043    3660.0   \n",
       "theta[1]  -2.203  1.098  -4.283   -0.231      0.015    0.011    6210.0   \n",
       "theta[2]   0.433  0.802  -1.057    1.968      0.013    0.010    3573.0   \n",
       "theta[3]   8.659  4.058   1.816   16.226      0.078    0.055    2808.0   \n",
       "\n",
       "          ess_tail  r_hat  \n",
       "t[0]        4164.0    1.0  \n",
       "t[1]        4031.0    1.0  \n",
       "alpha       4164.0    1.0  \n",
       "beta        4031.0    1.0  \n",
       "theta[0]    4635.0    1.0  \n",
       "theta[1]    5525.0    1.0  \n",
       "theta[2]    4428.0    1.0  \n",
       "theta[3]    3964.0    1.0  "
      ]
     },
     "execution_count": 4,
     "metadata": {},
     "output_type": "execute_result"
    }
   ],
   "source": [
    "import arviz as az\n",
    "az.summary(fit)"
   ]
  },
  {
   "cell_type": "markdown",
   "metadata": {},
   "source": [
    "What we see from the summary, is that the $\\hat{R}$ values for both $\\alpha$ and $\\beta$ are stored as 1.0, assuring us that there is no between chains variance. This is as good as it gets.\n",
    "\n",
    "It would be interesting to see how the $\\hat{R}$ values change with the step number, and when does it reach 1.0."
   ]
  },
  {
   "cell_type": "markdown",
   "metadata": {},
   "source": [
    "### Plotting $\\alpha$ and $\\beta$"
   ]
  }
 ],
 "metadata": {
  "kernelspec": {
   "display_name": "Python 3",
   "language": "python",
   "name": "python3"
  },
  "language_info": {
   "codemirror_mode": {
    "name": "ipython",
    "version": 3
   },
   "file_extension": ".py",
   "mimetype": "text/x-python",
   "name": "python",
   "nbconvert_exporter": "python",
   "pygments_lexer": "ipython3",
   "version": "3.10.0"
  }
 },
 "nbformat": 4,
 "nbformat_minor": 2
}
